{
  "nbformat": 4,
  "nbformat_minor": 0,
  "metadata": {
    "colab": {
      "provenance": [],
      "authorship_tag": "ABX9TyMMMOIGX6+yqUkT+4RDH/AE",
      "include_colab_link": true
    },
    "kernelspec": {
      "name": "python3",
      "display_name": "Python 3"
    },
    "language_info": {
      "name": "python"
    }
  },
  "cells": [
    {
      "cell_type": "markdown",
      "metadata": {
        "id": "view-in-github",
        "colab_type": "text"
      },
      "source": [
        "<a href=\"https://colab.research.google.com/github/Nikshitha-02/program1/blob/main/predict_outputs.ipynb\" target=\"_parent\"><img src=\"https://colab.research.google.com/assets/colab-badge.svg\" alt=\"Open In Colab\"/></a>"
      ]
    },
    {
      "cell_type": "code",
      "execution_count": 1,
      "metadata": {
        "colab": {
          "base_uri": "https://localhost:8080/"
        },
        "id": "4D1UJxjduSDR",
        "outputId": "c4969877-adb6-4183-a265-c2caa5a7a32d"
      },
      "outputs": [
        {
          "output_type": "stream",
          "name": "stdout",
          "text": [
            "10\n"
          ]
        }
      ],
      "source": [
        "whatif=\"the world ends today\"\n",
        "print(len(whatif)-len(\"not at all\"))"
      ]
    },
    {
      "cell_type": "code",
      "source": [
        "m=[\"dune\",\"jaws\",\"vp\",\"titanic\",\"ratatoaille\"]\n",
        "print(m[-2][3]+m[-1][-1]+m[-1][-4]+m[4][-6]+m[-5][1])"
      ],
      "metadata": {
        "colab": {
          "base_uri": "https://localhost:8080/"
        },
        "id": "a-HiorTLu6bA",
        "outputId": "5dd21acd-bf40-4ec7-b4b6-2a3b2c269a31"
      },
      "execution_count": 2,
      "outputs": [
        {
          "output_type": "stream",
          "name": "stdout",
          "text": [
            "aeiou\n"
          ]
        }
      ]
    },
    {
      "cell_type": "code",
      "source": [
        "strength={\"it\":70,\"ece\":65,\"eee\":75,\"aiml\":50}\n",
        "strength.update({\"cse\":64})\n",
        "print(strength)"
      ],
      "metadata": {
        "colab": {
          "base_uri": "https://localhost:8080/"
        },
        "id": "mKJF1WqvvTRT",
        "outputId": "e3bbe57f-3cfe-4f39-87d2-800aef30d1d1"
      },
      "execution_count": 3,
      "outputs": [
        {
          "output_type": "stream",
          "name": "stdout",
          "text": [
            "{'it': 70, 'ece': 65, 'eee': 75, 'aiml': 50, 'cse': 64}\n"
          ]
        }
      ]
    },
    {
      "cell_type": "code",
      "source": [
        "event=\"easter at april 20\"\n",
        "l=event.split(\" \")\n",
        "print(\"#\".join(l[::-2]))"
      ],
      "metadata": {
        "colab": {
          "base_uri": "https://localhost:8080/"
        },
        "id": "Zn8kjL83vmL-",
        "outputId": "88523f19-1554-43c0-d8a3-d60413703d8a"
      },
      "execution_count": 4,
      "outputs": [
        {
          "output_type": "stream",
          "name": "stdout",
          "text": [
            "20#at\n"
          ]
        }
      ]
    },
    {
      "cell_type": "code",
      "source": [
        "name=\"college of engineering\"\n",
        "print(name[8:11]+\"cyc\"+name[3]+name[-3:])"
      ],
      "metadata": {
        "colab": {
          "base_uri": "https://localhost:8080/"
        },
        "id": "8Y8w2GsDv1_0",
        "outputId": "34ac6fda-60fb-457a-c13e-0541b8e1cff7"
      },
      "execution_count": 5,
      "outputs": [
        {
          "output_type": "stream",
          "name": "stdout",
          "text": [
            "of cycling\n"
          ]
        }
      ]
    },
    {
      "cell_type": "code",
      "source": [
        "print(float(5+int(4.39+2.1)%2))"
      ],
      "metadata": {
        "colab": {
          "base_uri": "https://localhost:8080/"
        },
        "id": "PVPbhBoWwJmX",
        "outputId": "8478cdd3-8c65-4b48-bc28-290544f354f6"
      },
      "execution_count": 6,
      "outputs": [
        {
          "output_type": "stream",
          "name": "stdout",
          "text": [
            "5.0\n"
          ]
        }
      ]
    },
    {
      "cell_type": "code",
      "source": [
        "print(3*1**3)"
      ],
      "metadata": {
        "colab": {
          "base_uri": "https://localhost:8080/"
        },
        "id": "Wrn39zfqwSFk",
        "outputId": "99ee7836-7e8a-47d1-d409-360adfaa06d8"
      },
      "execution_count": 7,
      "outputs": [
        {
          "output_type": "stream",
          "name": "stdout",
          "text": [
            "3\n"
          ]
        }
      ]
    },
    {
      "cell_type": "code",
      "source": [
        "p,q=8,3\n",
        "p,q,p=p+1,q+5,p+10\n",
        "print(p,q)"
      ],
      "metadata": {
        "colab": {
          "base_uri": "https://localhost:8080/"
        },
        "id": "5j0NwTuKwW4Y",
        "outputId": "f686efd8-0852-45b2-8668-d1d6037d3fa1"
      },
      "execution_count": 8,
      "outputs": [
        {
          "output_type": "stream",
          "name": "stdout",
          "text": [
            "18 8\n"
          ]
        }
      ]
    },
    {
      "cell_type": "code",
      "source": [
        "print(16//3+3**3+15/4-9)"
      ],
      "metadata": {
        "colab": {
          "base_uri": "https://localhost:8080/"
        },
        "id": "8h0y_j_pwf8B",
        "outputId": "dce66f36-1e4b-4350-f0a1-a417cc7ec1bd"
      },
      "execution_count": 9,
      "outputs": [
        {
          "output_type": "stream",
          "name": "stdout",
          "text": [
            "26.75\n"
          ]
        }
      ]
    },
    {
      "cell_type": "code",
      "source": [
        "t=(2,4,(6,8,(10,12)),14)\n",
        "print(t[2][2][0]*t[0]+t[-1])"
      ],
      "metadata": {
        "colab": {
          "base_uri": "https://localhost:8080/"
        },
        "id": "2AtM9AuqwnK7",
        "outputId": "8869c630-9277-408c-e2f0-f302c29f07c6"
      },
      "execution_count": 10,
      "outputs": [
        {
          "output_type": "stream",
          "name": "stdout",
          "text": [
            "34\n"
          ]
        }
      ]
    },
    {
      "cell_type": "code",
      "source": [],
      "metadata": {
        "id": "lo0GsvwLw15d"
      },
      "execution_count": null,
      "outputs": []
    }
  ]
}